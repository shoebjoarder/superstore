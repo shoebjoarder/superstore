{
 "cells": [
  {
   "cell_type": "code",
   "execution_count": 1,
   "metadata": {},
   "outputs": [],
   "source": [
    "import pandas as pd\n",
    "import plotly.express as px\n",
    "# import plotly.io as pio\n",
    "# pio.renderers.default = \"browser\""
   ]
  },
  {
   "cell_type": "code",
   "execution_count": 4,
   "metadata": {},
   "outputs": [],
   "source": [
    "def load_dataset(url=None):\n",
    "    df_orders = None\n",
    "    df_returns = None\n",
    "    if url is None:\n",
    "        df_orders = pd.read_excel(\"data/Sample - Superstore.xlsx\", sheet_name=\"Orders\")\n",
    "        df_returns = pd.read_excel(\"data/Sample - Superstore.xlsx\", sheet_name=\"Returns\")\n",
    "        print(\"***** Local Excel file used to load dataset! *****\")\n",
    "    else:\n",
    "        df_orders = pd.read_excel(url, sheet_name=\"Orders\")\n",
    "        df_returns = pd.read_excel(url, sheet_name=\"Returns\")\n",
    "        print(\"***** Fetched the Excel file from GitHub successfully! *****\")\n",
    "\n",
    "    # df_orders.sort_values(\"Order ID\", inplace=True)\n",
    "    # df_returns.sort_values(\"Order ID\", inplace=True)\n",
    "\n",
    "    merged_df = pd.merge(df_orders, df_returns, on=\"Order ID\", how=\"outer\")\n",
    "\n",
    "    merged_df[\"Returned\"] = merged_df[\"Returned\"].fillna(\"No\")\n",
    "\n",
    "    merged_df[\"Order Date\"] = merged_df[\"Order Date\"].dt.strftime(\"%Y-%m-%d\")\n",
    "    merged_df[\"Ship Date\"] = merged_df[\"Ship Date\"].dt.strftime(\"%Y-%m-%d\")\n",
    "\n",
    "    merged_df = merged_df.drop(\"Row ID\", axis=1)\n",
    "    df_original = merged_df.copy(deep=True)\n",
    "    df_table = merged_df.copy(deep=True)\n",
    "\n",
    "    return df_original, df_table"
   ]
  },
  {
   "cell_type": "code",
   "execution_count": 7,
   "metadata": {},
   "outputs": [
    {
     "name": "stdout",
     "output_type": "stream",
     "text": [
      "***** Fetched the Excel file from GitHub successfully! *****\n"
     ]
    }
   ],
   "source": [
    "df_original, df_table = load_dataset(url='https://github.com/shoebjoarder/datastore/raw/main/Sample%20-%20Superstore.xlsx')"
   ]
  },
  {
   "cell_type": "code",
   "execution_count": 8,
   "metadata": {},
   "outputs": [
    {
     "name": "stdout",
     "output_type": "stream",
     "text": [
      "         Order ID  Order Date   Ship Date       Ship Mode Customer ID  \\\n",
      "0  CA-2014-100006  2014-09-07  2014-09-13  Standard Class    DK-13375   \n",
      "1  CA-2014-100090  2014-07-08  2014-07-12  Standard Class    EB-13705   \n",
      "2  CA-2014-100090  2014-07-08  2014-07-12  Standard Class    EB-13705   \n",
      "3  CA-2014-100293  2014-03-14  2014-03-18  Standard Class    NF-18475   \n",
      "4  CA-2014-100328  2014-01-28  2014-02-03  Standard Class    JC-15340   \n",
      "\n",
      "      Customer Name      Segment        Country           City       State  \\\n",
      "0       Dennis Kane     Consumer  United States  New York City    New York   \n",
      "1        Ed Braxton    Corporate  United States  San Francisco  California   \n",
      "2        Ed Braxton    Corporate  United States  San Francisco  California   \n",
      "3  Neil Französisch  Home Office  United States   Jacksonville     Florida   \n",
      "4   Jasper Cacioppo     Consumer  United States  New York City    New York   \n",
      "\n",
      "   ...  Region       Product ID         Category Sub-Category  \\\n",
      "0  ...    East  TEC-PH-10002075       Technology       Phones   \n",
      "1  ...    West  FUR-TA-10003715        Furniture       Tables   \n",
      "2  ...    West  OFF-BI-10001597  Office Supplies      Binders   \n",
      "3  ...   South  OFF-PA-10000176  Office Supplies        Paper   \n",
      "4  ...    East  OFF-BI-10000343  Office Supplies      Binders   \n",
      "\n",
      "                                        Product Name    Sales  Quantity  \\\n",
      "0                                  AT&T EL51110 DECT  377.970         3   \n",
      "1            Hon 2111 Invitation Series Corner Table  502.488         3   \n",
      "2  Wilson Jones Ledger-Size, Piano-Hinge Binder, ...  196.704         6   \n",
      "3                                         Xerox 1887   91.056         6   \n",
      "4  Pressboard Covers with Storage Hooks, 9 1/2\" x...    3.928         1   \n",
      "\n",
      "   Discount    Profit  Returned  \n",
      "0       0.0  109.6113        No  \n",
      "1       0.2  -87.9354        No  \n",
      "2       0.2   68.8464        No  \n",
      "3       0.2   31.8696        No  \n",
      "4       0.2    1.3257        No  \n",
      "\n",
      "[5 rows x 21 columns]\n"
     ]
    }
   ],
   "source": [
    "print(df_table[:5])"
   ]
  },
  {
   "cell_type": "code",
   "execution_count": 26,
   "metadata": {},
   "outputs": [
    {
     "name": "stdout",
     "output_type": "stream",
     "text": [
      "    Order Date  Returned\n",
      "0   2014-01-20         2\n",
      "1   2014-02-23         2\n",
      "2   2014-03-17         5\n",
      "3   2014-03-18         1\n",
      "4   2014-04-06         4\n",
      "..         ...       ...\n",
      "254 2017-12-22         5\n",
      "255 2017-12-25         5\n",
      "256 2017-12-28         2\n",
      "257 2017-12-29         2\n",
      "258 2017-12-30         2\n",
      "\n",
      "[259 rows x 2 columns]\n"
     ]
    },
    {
     "data": {
      "application/vnd.plotly.v1+json": {
       "config": {
        "plotlyServerURL": "https://plot.ly"
       },
       "data": [
        {
         "hovertemplate": "Order Date=%{x}<br>Returned=%{y}<extra></extra>",
         "legendgroup": "",
         "line": {
          "color": "#636efa",
          "dash": "solid"
         },
         "marker": {
          "symbol": "circle"
         },
         "mode": "lines",
         "name": "",
         "orientation": "v",
         "showlegend": false,
         "type": "scatter",
         "x": [
          "2014-01-20T00:00:00",
          "2014-02-23T00:00:00",
          "2014-03-17T00:00:00",
          "2014-03-18T00:00:00",
          "2014-04-06T00:00:00",
          "2014-04-26T00:00:00",
          "2014-05-18T00:00:00",
          "2014-05-22T00:00:00",
          "2014-05-26T00:00:00",
          "2014-05-28T00:00:00",
          "2014-06-03T00:00:00",
          "2014-06-25T00:00:00",
          "2014-07-01T00:00:00",
          "2014-07-07T00:00:00",
          "2014-07-11T00:00:00",
          "2014-07-20T00:00:00",
          "2014-07-26T00:00:00",
          "2014-08-03T00:00:00",
          "2014-08-04T00:00:00",
          "2014-08-11T00:00:00",
          "2014-08-15T00:00:00",
          "2014-08-22T00:00:00",
          "2014-08-27T00:00:00",
          "2014-08-29T00:00:00",
          "2014-09-01T00:00:00",
          "2014-09-07T00:00:00",
          "2014-09-09T00:00:00",
          "2014-09-13T00:00:00",
          "2014-09-14T00:00:00",
          "2014-09-17T00:00:00",
          "2014-09-20T00:00:00",
          "2014-10-10T00:00:00",
          "2014-10-11T00:00:00",
          "2014-10-19T00:00:00",
          "2014-10-31T00:00:00",
          "2014-11-02T00:00:00",
          "2014-11-07T00:00:00",
          "2014-11-11T00:00:00",
          "2014-11-18T00:00:00",
          "2014-11-24T00:00:00",
          "2014-11-25T00:00:00",
          "2014-12-03T00:00:00",
          "2014-12-05T00:00:00",
          "2014-12-06T00:00:00",
          "2014-12-14T00:00:00",
          "2014-12-19T00:00:00",
          "2014-12-20T00:00:00",
          "2014-12-29T00:00:00",
          "2015-01-02T00:00:00",
          "2015-01-05T00:00:00",
          "2015-01-06T00:00:00",
          "2015-01-17T00:00:00",
          "2015-01-23T00:00:00",
          "2015-02-15T00:00:00",
          "2015-02-22T00:00:00",
          "2015-02-27T00:00:00",
          "2015-03-07T00:00:00",
          "2015-03-22T00:00:00",
          "2015-04-10T00:00:00",
          "2015-04-11T00:00:00",
          "2015-04-18T00:00:00",
          "2015-04-20T00:00:00",
          "2015-04-21T00:00:00",
          "2015-04-25T00:00:00",
          "2015-04-30T00:00:00",
          "2015-05-03T00:00:00",
          "2015-05-08T00:00:00",
          "2015-05-23T00:00:00",
          "2015-05-25T00:00:00",
          "2015-06-28T00:00:00",
          "2015-07-06T00:00:00",
          "2015-08-08T00:00:00",
          "2015-08-16T00:00:00",
          "2015-08-21T00:00:00",
          "2015-09-05T00:00:00",
          "2015-09-06T00:00:00",
          "2015-09-08T00:00:00",
          "2015-09-14T00:00:00",
          "2015-09-21T00:00:00",
          "2015-10-01T00:00:00",
          "2015-10-02T00:00:00",
          "2015-10-10T00:00:00",
          "2015-10-15T00:00:00",
          "2015-10-24T00:00:00",
          "2015-10-31T00:00:00",
          "2015-11-08T00:00:00",
          "2015-11-09T00:00:00",
          "2015-11-11T00:00:00",
          "2015-11-12T00:00:00",
          "2015-11-14T00:00:00",
          "2015-11-16T00:00:00",
          "2015-11-20T00:00:00",
          "2015-11-27T00:00:00",
          "2015-12-01T00:00:00",
          "2015-12-05T00:00:00",
          "2015-12-06T00:00:00",
          "2015-12-11T00:00:00",
          "2015-12-12T00:00:00",
          "2015-12-13T00:00:00",
          "2015-12-14T00:00:00",
          "2015-12-21T00:00:00",
          "2015-12-24T00:00:00",
          "2015-12-25T00:00:00",
          "2015-12-30T00:00:00",
          "2016-01-10T00:00:00",
          "2016-01-11T00:00:00",
          "2016-01-14T00:00:00",
          "2016-01-17T00:00:00",
          "2016-02-04T00:00:00",
          "2016-03-03T00:00:00",
          "2016-03-08T00:00:00",
          "2016-03-14T00:00:00",
          "2016-03-20T00:00:00",
          "2016-03-22T00:00:00",
          "2016-03-31T00:00:00",
          "2016-04-08T00:00:00",
          "2016-04-12T00:00:00",
          "2016-04-14T00:00:00",
          "2016-04-22T00:00:00",
          "2016-04-23T00:00:00",
          "2016-04-28T00:00:00",
          "2016-05-09T00:00:00",
          "2016-05-16T00:00:00",
          "2016-05-19T00:00:00",
          "2016-05-20T00:00:00",
          "2016-05-25T00:00:00",
          "2016-05-28T00:00:00",
          "2016-05-30T00:00:00",
          "2016-06-02T00:00:00",
          "2016-06-12T00:00:00",
          "2016-06-17T00:00:00",
          "2016-06-24T00:00:00",
          "2016-06-25T00:00:00",
          "2016-07-10T00:00:00",
          "2016-07-14T00:00:00",
          "2016-07-18T00:00:00",
          "2016-07-22T00:00:00",
          "2016-08-11T00:00:00",
          "2016-08-26T00:00:00",
          "2016-08-27T00:00:00",
          "2016-09-02T00:00:00",
          "2016-09-05T00:00:00",
          "2016-09-16T00:00:00",
          "2016-09-17T00:00:00",
          "2016-10-06T00:00:00",
          "2016-10-13T00:00:00",
          "2016-10-20T00:00:00",
          "2016-10-21T00:00:00",
          "2016-10-23T00:00:00",
          "2016-10-24T00:00:00",
          "2016-10-27T00:00:00",
          "2016-10-28T00:00:00",
          "2016-10-30T00:00:00",
          "2016-11-01T00:00:00",
          "2016-11-03T00:00:00",
          "2016-11-05T00:00:00",
          "2016-11-16T00:00:00",
          "2016-11-17T00:00:00",
          "2016-11-20T00:00:00",
          "2016-11-21T00:00:00",
          "2016-11-25T00:00:00",
          "2016-11-27T00:00:00",
          "2016-12-01T00:00:00",
          "2016-12-02T00:00:00",
          "2016-12-11T00:00:00",
          "2016-12-18T00:00:00",
          "2016-12-24T00:00:00",
          "2016-12-25T00:00:00",
          "2016-12-30T00:00:00",
          "2017-01-14T00:00:00",
          "2017-01-28T00:00:00",
          "2017-01-30T00:00:00",
          "2017-02-11T00:00:00",
          "2017-02-17T00:00:00",
          "2017-02-26T00:00:00",
          "2017-03-02T00:00:00",
          "2017-03-03T00:00:00",
          "2017-03-06T00:00:00",
          "2017-03-17T00:00:00",
          "2017-03-18T00:00:00",
          "2017-03-20T00:00:00",
          "2017-03-23T00:00:00",
          "2017-03-28T00:00:00",
          "2017-04-17T00:00:00",
          "2017-04-23T00:00:00",
          "2017-04-25T00:00:00",
          "2017-04-27T00:00:00",
          "2017-04-30T00:00:00",
          "2017-05-18T00:00:00",
          "2017-05-19T00:00:00",
          "2017-05-22T00:00:00",
          "2017-05-23T00:00:00",
          "2017-06-03T00:00:00",
          "2017-06-10T00:00:00",
          "2017-06-15T00:00:00",
          "2017-06-17T00:00:00",
          "2017-06-18T00:00:00",
          "2017-06-29T00:00:00",
          "2017-07-03T00:00:00",
          "2017-07-09T00:00:00",
          "2017-07-11T00:00:00",
          "2017-07-15T00:00:00",
          "2017-07-17T00:00:00",
          "2017-07-21T00:00:00",
          "2017-08-07T00:00:00",
          "2017-08-13T00:00:00",
          "2017-08-17T00:00:00",
          "2017-08-21T00:00:00",
          "2017-08-27T00:00:00",
          "2017-08-29T00:00:00",
          "2017-08-31T00:00:00",
          "2017-09-02T00:00:00",
          "2017-09-03T00:00:00",
          "2017-09-04T00:00:00",
          "2017-09-07T00:00:00",
          "2017-09-09T00:00:00",
          "2017-09-10T00:00:00",
          "2017-09-11T00:00:00",
          "2017-09-14T00:00:00",
          "2017-09-15T00:00:00",
          "2017-09-19T00:00:00",
          "2017-09-20T00:00:00",
          "2017-09-23T00:00:00",
          "2017-09-26T00:00:00",
          "2017-09-28T00:00:00",
          "2017-09-29T00:00:00",
          "2017-09-30T00:00:00",
          "2017-10-02T00:00:00",
          "2017-10-05T00:00:00",
          "2017-10-15T00:00:00",
          "2017-10-19T00:00:00",
          "2017-10-30T00:00:00",
          "2017-11-05T00:00:00",
          "2017-11-07T00:00:00",
          "2017-11-14T00:00:00",
          "2017-11-16T00:00:00",
          "2017-11-17T00:00:00",
          "2017-11-18T00:00:00",
          "2017-11-20T00:00:00",
          "2017-11-21T00:00:00",
          "2017-11-24T00:00:00",
          "2017-11-25T00:00:00",
          "2017-11-27T00:00:00",
          "2017-12-01T00:00:00",
          "2017-12-02T00:00:00",
          "2017-12-04T00:00:00",
          "2017-12-05T00:00:00",
          "2017-12-07T00:00:00",
          "2017-12-08T00:00:00",
          "2017-12-10T00:00:00",
          "2017-12-14T00:00:00",
          "2017-12-16T00:00:00",
          "2017-12-18T00:00:00",
          "2017-12-19T00:00:00",
          "2017-12-22T00:00:00",
          "2017-12-25T00:00:00",
          "2017-12-28T00:00:00",
          "2017-12-29T00:00:00",
          "2017-12-30T00:00:00"
         ],
         "xaxis": "x",
         "y": [
          2,
          2,
          5,
          1,
          4,
          2,
          1,
          2,
          3,
          1,
          1,
          1,
          3,
          2,
          2,
          4,
          6,
          2,
          6,
          3,
          5,
          1,
          6,
          2,
          1,
          3,
          4,
          8,
          7,
          4,
          3,
          2,
          2,
          1,
          1,
          2,
          2,
          5,
          1,
          8,
          3,
          1,
          5,
          6,
          3,
          2,
          1,
          9,
          5,
          1,
          2,
          1,
          2,
          5,
          1,
          2,
          4,
          3,
          2,
          2,
          2,
          3,
          4,
          1,
          2,
          4,
          5,
          2,
          3,
          2,
          1,
          3,
          4,
          6,
          5,
          1,
          2,
          3,
          2,
          2,
          3,
          1,
          2,
          1,
          9,
          4,
          4,
          2,
          7,
          3,
          2,
          2,
          1,
          1,
          4,
          2,
          2,
          2,
          4,
          5,
          2,
          6,
          2,
          5,
          2,
          3,
          2,
          3,
          1,
          4,
          2,
          1,
          4,
          1,
          2,
          3,
          2,
          1,
          5,
          2,
          1,
          5,
          2,
          1,
          2,
          3,
          5,
          5,
          3,
          2,
          8,
          1,
          3,
          2,
          1,
          5,
          4,
          3,
          4,
          6,
          12,
          4,
          1,
          4,
          5,
          7,
          1,
          5,
          1,
          2,
          1,
          2,
          1,
          2,
          2,
          3,
          1,
          1,
          1,
          1,
          1,
          1,
          2,
          3,
          14,
          10,
          1,
          2,
          2,
          5,
          2,
          3,
          2,
          5,
          8,
          1,
          3,
          2,
          2,
          3,
          2,
          3,
          7,
          6,
          5,
          1,
          2,
          1,
          1,
          1,
          1,
          1,
          3,
          3,
          7,
          3,
          2,
          1,
          1,
          1,
          2,
          2,
          7,
          1,
          2,
          4,
          7,
          7,
          9,
          3,
          2,
          3,
          1,
          3,
          2,
          8,
          1,
          2,
          2,
          1,
          4,
          14,
          3,
          1,
          1,
          5,
          3,
          2,
          8,
          3,
          4,
          6,
          1,
          3,
          2,
          5,
          2,
          4,
          4,
          6,
          2,
          2,
          2,
          5,
          3,
          1,
          5,
          2,
          1,
          1,
          3,
          4,
          3,
          1,
          5,
          5,
          2,
          2,
          2
         ],
         "yaxis": "y"
        }
       ],
       "layout": {
        "legend": {
         "tracegroupgap": 0
        },
        "template": {
         "data": {
          "bar": [
           {
            "error_x": {
             "color": "#2a3f5f"
            },
            "error_y": {
             "color": "#2a3f5f"
            },
            "marker": {
             "line": {
              "color": "#E5ECF6",
              "width": 0.5
             },
             "pattern": {
              "fillmode": "overlay",
              "size": 10,
              "solidity": 0.2
             }
            },
            "type": "bar"
           }
          ],
          "barpolar": [
           {
            "marker": {
             "line": {
              "color": "#E5ECF6",
              "width": 0.5
             },
             "pattern": {
              "fillmode": "overlay",
              "size": 10,
              "solidity": 0.2
             }
            },
            "type": "barpolar"
           }
          ],
          "carpet": [
           {
            "aaxis": {
             "endlinecolor": "#2a3f5f",
             "gridcolor": "white",
             "linecolor": "white",
             "minorgridcolor": "white",
             "startlinecolor": "#2a3f5f"
            },
            "baxis": {
             "endlinecolor": "#2a3f5f",
             "gridcolor": "white",
             "linecolor": "white",
             "minorgridcolor": "white",
             "startlinecolor": "#2a3f5f"
            },
            "type": "carpet"
           }
          ],
          "choropleth": [
           {
            "colorbar": {
             "outlinewidth": 0,
             "ticks": ""
            },
            "type": "choropleth"
           }
          ],
          "contour": [
           {
            "colorbar": {
             "outlinewidth": 0,
             "ticks": ""
            },
            "colorscale": [
             [
              0,
              "#0d0887"
             ],
             [
              0.1111111111111111,
              "#46039f"
             ],
             [
              0.2222222222222222,
              "#7201a8"
             ],
             [
              0.3333333333333333,
              "#9c179e"
             ],
             [
              0.4444444444444444,
              "#bd3786"
             ],
             [
              0.5555555555555556,
              "#d8576b"
             ],
             [
              0.6666666666666666,
              "#ed7953"
             ],
             [
              0.7777777777777778,
              "#fb9f3a"
             ],
             [
              0.8888888888888888,
              "#fdca26"
             ],
             [
              1,
              "#f0f921"
             ]
            ],
            "type": "contour"
           }
          ],
          "contourcarpet": [
           {
            "colorbar": {
             "outlinewidth": 0,
             "ticks": ""
            },
            "type": "contourcarpet"
           }
          ],
          "heatmap": [
           {
            "colorbar": {
             "outlinewidth": 0,
             "ticks": ""
            },
            "colorscale": [
             [
              0,
              "#0d0887"
             ],
             [
              0.1111111111111111,
              "#46039f"
             ],
             [
              0.2222222222222222,
              "#7201a8"
             ],
             [
              0.3333333333333333,
              "#9c179e"
             ],
             [
              0.4444444444444444,
              "#bd3786"
             ],
             [
              0.5555555555555556,
              "#d8576b"
             ],
             [
              0.6666666666666666,
              "#ed7953"
             ],
             [
              0.7777777777777778,
              "#fb9f3a"
             ],
             [
              0.8888888888888888,
              "#fdca26"
             ],
             [
              1,
              "#f0f921"
             ]
            ],
            "type": "heatmap"
           }
          ],
          "heatmapgl": [
           {
            "colorbar": {
             "outlinewidth": 0,
             "ticks": ""
            },
            "colorscale": [
             [
              0,
              "#0d0887"
             ],
             [
              0.1111111111111111,
              "#46039f"
             ],
             [
              0.2222222222222222,
              "#7201a8"
             ],
             [
              0.3333333333333333,
              "#9c179e"
             ],
             [
              0.4444444444444444,
              "#bd3786"
             ],
             [
              0.5555555555555556,
              "#d8576b"
             ],
             [
              0.6666666666666666,
              "#ed7953"
             ],
             [
              0.7777777777777778,
              "#fb9f3a"
             ],
             [
              0.8888888888888888,
              "#fdca26"
             ],
             [
              1,
              "#f0f921"
             ]
            ],
            "type": "heatmapgl"
           }
          ],
          "histogram": [
           {
            "marker": {
             "pattern": {
              "fillmode": "overlay",
              "size": 10,
              "solidity": 0.2
             }
            },
            "type": "histogram"
           }
          ],
          "histogram2d": [
           {
            "colorbar": {
             "outlinewidth": 0,
             "ticks": ""
            },
            "colorscale": [
             [
              0,
              "#0d0887"
             ],
             [
              0.1111111111111111,
              "#46039f"
             ],
             [
              0.2222222222222222,
              "#7201a8"
             ],
             [
              0.3333333333333333,
              "#9c179e"
             ],
             [
              0.4444444444444444,
              "#bd3786"
             ],
             [
              0.5555555555555556,
              "#d8576b"
             ],
             [
              0.6666666666666666,
              "#ed7953"
             ],
             [
              0.7777777777777778,
              "#fb9f3a"
             ],
             [
              0.8888888888888888,
              "#fdca26"
             ],
             [
              1,
              "#f0f921"
             ]
            ],
            "type": "histogram2d"
           }
          ],
          "histogram2dcontour": [
           {
            "colorbar": {
             "outlinewidth": 0,
             "ticks": ""
            },
            "colorscale": [
             [
              0,
              "#0d0887"
             ],
             [
              0.1111111111111111,
              "#46039f"
             ],
             [
              0.2222222222222222,
              "#7201a8"
             ],
             [
              0.3333333333333333,
              "#9c179e"
             ],
             [
              0.4444444444444444,
              "#bd3786"
             ],
             [
              0.5555555555555556,
              "#d8576b"
             ],
             [
              0.6666666666666666,
              "#ed7953"
             ],
             [
              0.7777777777777778,
              "#fb9f3a"
             ],
             [
              0.8888888888888888,
              "#fdca26"
             ],
             [
              1,
              "#f0f921"
             ]
            ],
            "type": "histogram2dcontour"
           }
          ],
          "mesh3d": [
           {
            "colorbar": {
             "outlinewidth": 0,
             "ticks": ""
            },
            "type": "mesh3d"
           }
          ],
          "parcoords": [
           {
            "line": {
             "colorbar": {
              "outlinewidth": 0,
              "ticks": ""
             }
            },
            "type": "parcoords"
           }
          ],
          "pie": [
           {
            "automargin": true,
            "type": "pie"
           }
          ],
          "scatter": [
           {
            "fillpattern": {
             "fillmode": "overlay",
             "size": 10,
             "solidity": 0.2
            },
            "type": "scatter"
           }
          ],
          "scatter3d": [
           {
            "line": {
             "colorbar": {
              "outlinewidth": 0,
              "ticks": ""
             }
            },
            "marker": {
             "colorbar": {
              "outlinewidth": 0,
              "ticks": ""
             }
            },
            "type": "scatter3d"
           }
          ],
          "scattercarpet": [
           {
            "marker": {
             "colorbar": {
              "outlinewidth": 0,
              "ticks": ""
             }
            },
            "type": "scattercarpet"
           }
          ],
          "scattergeo": [
           {
            "marker": {
             "colorbar": {
              "outlinewidth": 0,
              "ticks": ""
             }
            },
            "type": "scattergeo"
           }
          ],
          "scattergl": [
           {
            "marker": {
             "colorbar": {
              "outlinewidth": 0,
              "ticks": ""
             }
            },
            "type": "scattergl"
           }
          ],
          "scattermapbox": [
           {
            "marker": {
             "colorbar": {
              "outlinewidth": 0,
              "ticks": ""
             }
            },
            "type": "scattermapbox"
           }
          ],
          "scatterpolar": [
           {
            "marker": {
             "colorbar": {
              "outlinewidth": 0,
              "ticks": ""
             }
            },
            "type": "scatterpolar"
           }
          ],
          "scatterpolargl": [
           {
            "marker": {
             "colorbar": {
              "outlinewidth": 0,
              "ticks": ""
             }
            },
            "type": "scatterpolargl"
           }
          ],
          "scatterternary": [
           {
            "marker": {
             "colorbar": {
              "outlinewidth": 0,
              "ticks": ""
             }
            },
            "type": "scatterternary"
           }
          ],
          "surface": [
           {
            "colorbar": {
             "outlinewidth": 0,
             "ticks": ""
            },
            "colorscale": [
             [
              0,
              "#0d0887"
             ],
             [
              0.1111111111111111,
              "#46039f"
             ],
             [
              0.2222222222222222,
              "#7201a8"
             ],
             [
              0.3333333333333333,
              "#9c179e"
             ],
             [
              0.4444444444444444,
              "#bd3786"
             ],
             [
              0.5555555555555556,
              "#d8576b"
             ],
             [
              0.6666666666666666,
              "#ed7953"
             ],
             [
              0.7777777777777778,
              "#fb9f3a"
             ],
             [
              0.8888888888888888,
              "#fdca26"
             ],
             [
              1,
              "#f0f921"
             ]
            ],
            "type": "surface"
           }
          ],
          "table": [
           {
            "cells": {
             "fill": {
              "color": "#EBF0F8"
             },
             "line": {
              "color": "white"
             }
            },
            "header": {
             "fill": {
              "color": "#C8D4E3"
             },
             "line": {
              "color": "white"
             }
            },
            "type": "table"
           }
          ]
         },
         "layout": {
          "annotationdefaults": {
           "arrowcolor": "#2a3f5f",
           "arrowhead": 0,
           "arrowwidth": 1
          },
          "autotypenumbers": "strict",
          "coloraxis": {
           "colorbar": {
            "outlinewidth": 0,
            "ticks": ""
           }
          },
          "colorscale": {
           "diverging": [
            [
             0,
             "#8e0152"
            ],
            [
             0.1,
             "#c51b7d"
            ],
            [
             0.2,
             "#de77ae"
            ],
            [
             0.3,
             "#f1b6da"
            ],
            [
             0.4,
             "#fde0ef"
            ],
            [
             0.5,
             "#f7f7f7"
            ],
            [
             0.6,
             "#e6f5d0"
            ],
            [
             0.7,
             "#b8e186"
            ],
            [
             0.8,
             "#7fbc41"
            ],
            [
             0.9,
             "#4d9221"
            ],
            [
             1,
             "#276419"
            ]
           ],
           "sequential": [
            [
             0,
             "#0d0887"
            ],
            [
             0.1111111111111111,
             "#46039f"
            ],
            [
             0.2222222222222222,
             "#7201a8"
            ],
            [
             0.3333333333333333,
             "#9c179e"
            ],
            [
             0.4444444444444444,
             "#bd3786"
            ],
            [
             0.5555555555555556,
             "#d8576b"
            ],
            [
             0.6666666666666666,
             "#ed7953"
            ],
            [
             0.7777777777777778,
             "#fb9f3a"
            ],
            [
             0.8888888888888888,
             "#fdca26"
            ],
            [
             1,
             "#f0f921"
            ]
           ],
           "sequentialminus": [
            [
             0,
             "#0d0887"
            ],
            [
             0.1111111111111111,
             "#46039f"
            ],
            [
             0.2222222222222222,
             "#7201a8"
            ],
            [
             0.3333333333333333,
             "#9c179e"
            ],
            [
             0.4444444444444444,
             "#bd3786"
            ],
            [
             0.5555555555555556,
             "#d8576b"
            ],
            [
             0.6666666666666666,
             "#ed7953"
            ],
            [
             0.7777777777777778,
             "#fb9f3a"
            ],
            [
             0.8888888888888888,
             "#fdca26"
            ],
            [
             1,
             "#f0f921"
            ]
           ]
          },
          "colorway": [
           "#636efa",
           "#EF553B",
           "#00cc96",
           "#ab63fa",
           "#FFA15A",
           "#19d3f3",
           "#FF6692",
           "#B6E880",
           "#FF97FF",
           "#FECB52"
          ],
          "font": {
           "color": "#2a3f5f"
          },
          "geo": {
           "bgcolor": "white",
           "lakecolor": "white",
           "landcolor": "#E5ECF6",
           "showlakes": true,
           "showland": true,
           "subunitcolor": "white"
          },
          "hoverlabel": {
           "align": "left"
          },
          "hovermode": "closest",
          "mapbox": {
           "style": "light"
          },
          "paper_bgcolor": "white",
          "plot_bgcolor": "#E5ECF6",
          "polar": {
           "angularaxis": {
            "gridcolor": "white",
            "linecolor": "white",
            "ticks": ""
           },
           "bgcolor": "#E5ECF6",
           "radialaxis": {
            "gridcolor": "white",
            "linecolor": "white",
            "ticks": ""
           }
          },
          "scene": {
           "xaxis": {
            "backgroundcolor": "#E5ECF6",
            "gridcolor": "white",
            "gridwidth": 2,
            "linecolor": "white",
            "showbackground": true,
            "ticks": "",
            "zerolinecolor": "white"
           },
           "yaxis": {
            "backgroundcolor": "#E5ECF6",
            "gridcolor": "white",
            "gridwidth": 2,
            "linecolor": "white",
            "showbackground": true,
            "ticks": "",
            "zerolinecolor": "white"
           },
           "zaxis": {
            "backgroundcolor": "#E5ECF6",
            "gridcolor": "white",
            "gridwidth": 2,
            "linecolor": "white",
            "showbackground": true,
            "ticks": "",
            "zerolinecolor": "white"
           }
          },
          "shapedefaults": {
           "line": {
            "color": "#2a3f5f"
           }
          },
          "ternary": {
           "aaxis": {
            "gridcolor": "white",
            "linecolor": "white",
            "ticks": ""
           },
           "baxis": {
            "gridcolor": "white",
            "linecolor": "white",
            "ticks": ""
           },
           "bgcolor": "#E5ECF6",
           "caxis": {
            "gridcolor": "white",
            "linecolor": "white",
            "ticks": ""
           }
          },
          "title": {
           "x": 0.05
          },
          "xaxis": {
           "automargin": true,
           "gridcolor": "white",
           "linecolor": "white",
           "ticks": "",
           "title": {
            "standoff": 15
           },
           "zerolinecolor": "white",
           "zerolinewidth": 2
          },
          "yaxis": {
           "automargin": true,
           "gridcolor": "white",
           "linecolor": "white",
           "ticks": "",
           "title": {
            "standoff": 15
           },
           "zerolinecolor": "white",
           "zerolinewidth": 2
          }
         }
        },
        "title": {
         "text": "Number of Returns Over Time"
        },
        "xaxis": {
         "anchor": "y",
         "domain": [
          0,
          1
         ],
         "title": {
          "text": "Order Date"
         }
        },
        "yaxis": {
         "anchor": "x",
         "domain": [
          0,
          1
         ],
         "title": {
          "text": "Returned"
         }
        }
       }
      }
     },
     "metadata": {},
     "output_type": "display_data"
    }
   ],
   "source": [
    "df_table['Order Date'] = pd.to_datetime(df_table['Order Date'])\n",
    "\n",
    "# Count the number of 'Yes' returns for each date\n",
    "df_count = df_table[df_table['Returned'] == 'Yes'].groupby('Order Date').size().reset_index(name='Returned')\n",
    "\n",
    "print(df_count)\n",
    "# Plot the data\n",
    "fig = px.line(df_count, x='Order Date', y='Returned', title='Number of Returns Over Time')\n",
    "\n",
    "# Show the plot\n",
    "fig.show()"
   ]
  },
  {
   "cell_type": "code",
   "execution_count": null,
   "metadata": {},
   "outputs": [],
   "source": [
    "print(merged_df[['Profit', 'Sales', 'Segment']][:10])"
   ]
  },
  {
   "cell_type": "code",
   "execution_count": null,
   "metadata": {},
   "outputs": [],
   "source": [
    "fig = px.scatter(merged_df, x=\"Sales\", y=\"Profit\", color=\"Segment\", hover_data=merged_df.columns)\n",
    "\n",
    "fig.show()"
   ]
  },
  {
   "cell_type": "code",
   "execution_count": null,
   "metadata": {},
   "outputs": [],
   "source": []
  }
 ],
 "metadata": {
  "kernelspec": {
   "display_name": "venv",
   "language": "python",
   "name": "python3"
  },
  "language_info": {
   "codemirror_mode": {
    "name": "ipython",
    "version": 3
   },
   "file_extension": ".py",
   "mimetype": "text/x-python",
   "name": "python",
   "nbconvert_exporter": "python",
   "pygments_lexer": "ipython3",
   "version": "3.10.13"
  }
 },
 "nbformat": 4,
 "nbformat_minor": 2
}
